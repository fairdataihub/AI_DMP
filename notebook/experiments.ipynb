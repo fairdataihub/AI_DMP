{
 "cells": [
  {
   "cell_type": "code",
   "execution_count": null,
   "id": "2e0f6b89",
   "metadata": {
    "vscode": {
     "languageId": "plaintext"
    }
   },
   "outputs": [],
   "source": [
    "1+1\n"
   ]
  }
 ],
 "metadata": {
  "language_info": {
   "name": "python"
  }
 },
 "nbformat": 4,
 "nbformat_minor": 5
}
